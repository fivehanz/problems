{
 "cells": [
  {
   "cell_type": "code",
   "execution_count": 10,
   "id": "b1e6a7fe-b283-485d-9ebd-5896fc8d2795",
   "metadata": {},
   "outputs": [
    {
     "name": "stdout",
     "output_type": "stream",
     "text": [
      "Python 3.11.7\n"
     ]
    }
   ],
   "source": [
    "!python --version"
   ]
  },
  {
   "cell_type": "code",
   "execution_count": 183,
   "id": "0af076d7-3ed3-4720-9246-5fffc48bb63d",
   "metadata": {},
   "outputs": [],
   "source": [
    "class Node: # BinaryNode\n",
    "    def __init__(self, value):\n",
    "        self.value: int = value # int\n",
    "        self.left: Node | None = None\n",
    "        self.right: Node | None = None"
   ]
  },
  {
   "cell_type": "code",
   "execution_count": 12,
   "id": "8ed754dd-3169-4d3f-b153-229012b5c4bc",
   "metadata": {},
   "outputs": [
    {
     "name": "stdout",
     "output_type": "stream",
     "text": [
      "DFS iterative:  ['a', 'b', 'd', 'e', 'c', 'f']\n",
      "DFS iterative:  []\n",
      "DFS recursive:  ['a', 'b', 'd', 'e', 'c', 'f']\n",
      "DFS recursive:  []\n",
      "BFS:  ['a', 'b', 'c', 'd', 'e', 'f']\n",
      "BFS:  []\n"
     ]
    }
   ],
   "source": [
    "from typing import List\n",
    "\n",
    "# create a basic tree\n",
    "a = Node('a')\n",
    "b = Node('b')\n",
    "c = Node('c')\n",
    "d = Node('d')\n",
    "e = Node('e')\n",
    "f = Node('f')\n",
    "\n",
    "# assign the leaves\n",
    "a.left = b\n",
    "a.right = c\n",
    "\n",
    "b.left = d\n",
    "b.right = e\n",
    "\n",
    "c.right = f\n",
    "\n",
    "# dfs traverse -- iterative\n",
    "def depth_first_traversal_iterative(root: Node = None) -> List:\n",
    "    result: List = []\n",
    "    \n",
    "    # base case\n",
    "    if root.value == None: return result\n",
    "\n",
    "    # stack for LIFO\n",
    "    stack: List = [ root ]\n",
    "\n",
    "    while len(stack) > 0:\n",
    "        # curser \n",
    "        current = stack.pop()\n",
    "\n",
    "        # push to result array\n",
    "        result.append(current.value)\n",
    "\n",
    "        if current.right: stack.append(current.right)\n",
    "        if current.left: stack.append(current.left)\n",
    "\n",
    "    return result\n",
    "\n",
    "print(\"DFS iterative: \", depth_first_traversal_iterative(a))\n",
    "print(\"DFS iterative: \", depth_first_traversal_iterative(Node(None)))\n",
    "\n",
    "# dfs traverse -- recursive\n",
    "def depth_first_traversal_recursive(root: Node = None) -> List:\n",
    "    # base case; empty root / None\n",
    "    if not root: return []\n",
    "    if root.value == None: return []\n",
    "\n",
    "    # left recursive tree\n",
    "    left_values = depth_first_traversal_recursive(root.left)\n",
    "\n",
    "    # right recursive tree\n",
    "    right_values = depth_first_traversal_recursive(root.right)\n",
    "\n",
    "    # join and return\n",
    "    return [root.value] + left_values + right_values\n",
    "\n",
    "print(\"DFS recursive: \", depth_first_traversal_recursive(a))\n",
    "print(\"DFS recursive: \", depth_first_traversal_recursive(Node(None)))\n",
    "\n",
    "# bfs traverse \n",
    "def breadth_first_traversal(root: Node = None) -> List:\n",
    "    result: List = []\n",
    "\n",
    "    # base case\n",
    "    if not root: return result\n",
    "    if root.value == None: return result\n",
    "\n",
    "    # prepare queue for FIFO\n",
    "    queue: List = [ root ]\n",
    "\n",
    "    while len(queue) > 0:\n",
    "        # cursor\n",
    "        current = queue.pop(0) # pop at index 0; \n",
    "\n",
    "        # push to the result list\n",
    "        result.append(current.value)\n",
    "\n",
    "        if current.left: queue.append(current.left)\n",
    "        if current.right: queue.append(current.right)\n",
    "\n",
    "    return result\n",
    "\n",
    "print(\"BFS: \", breadth_first_traversal(a))\n",
    "print(\"BFS: \", breadth_first_traversal(Node(None)))"
   ]
  },
  {
   "cell_type": "code",
   "execution_count": 190,
   "id": "cd566a70-fa5f-4f67-9410-15ab58d24131",
   "metadata": {},
   "outputs": [],
   "source": [
    "class BinarySearchTree:\n",
    "    def __init__(self):\n",
    "        self.root: Node | None = None\n",
    "\n",
    "    # iterative, TODO: implement recursive\n",
    "    def insert(self, value) -> Node:\n",
    "        print(f\"INFO: insert(value = {value}) called\")\n",
    "        \n",
    "        # base case; if empty root, insert root Node\n",
    "        if self.root == None: \n",
    "            self.root = Node(value)\n",
    "            return self.root\n",
    "\n",
    "        # if root is of type Node; else\n",
    "        else:\n",
    "            current = self.root\n",
    "            \n",
    "            while True:\n",
    "                if current.value < value:\n",
    "                    # if reach leaf, insert Node\n",
    "                    if not current.right: \n",
    "                        current.right = Node(value)\n",
    "                        return current\n",
    "\n",
    "                    # traverse\n",
    "                    current = current.right\n",
    "                else:\n",
    "                    # if reach leaf, insert Node\n",
    "                    if not current.left:\n",
    "                        current.left = Node(value)\n",
    "                        return current\n",
    "                        \n",
    "                    # traverse\n",
    "                    current = current.left\n",
    "\n",
    "    \n",
    "    # search\n",
    "    def search(self, value) -> Node | None:\n",
    "        print(f\"INFO: search(value = {value}) called\")\n",
    "        \n",
    "        # base case\n",
    "        if not self.root: return None\n",
    "\n",
    "        # cursor\n",
    "        current = self.root\n",
    "        print(f\"DEBUG: search reached cursor root: {current.value}\")\n",
    "        \n",
    "        while current:\n",
    "            print(f\"DEBUG: search entered loop: {current.value}\")\n",
    "\n",
    "            # current == value\n",
    "            if value == current.value:\n",
    "                print(f\"INFO: search found value: {current.value}\")\n",
    "                return current\n",
    "\n",
    "            # current < value\n",
    "            elif current.value < value:\n",
    "                print(f\"DEBUG: current({current.value}) < value({value})\")\n",
    "                print(\"DEBUG: going to right child\\n\")\n",
    "                current = current.right\n",
    "\n",
    "            # current > value\n",
    "            elif current.value > value: \n",
    "                print(f\"DEBUG: current({current.value}) > value({value})\")\n",
    "                print(\"DEBUG: going to left child\\n\")\n",
    "                current = current.left\n",
    "\n",
    "        return None\n",
    "\n",
    "    def find_max_depth(self) -> int:\n",
    "        pass\n"
   ]
  },
  {
   "cell_type": "code",
   "execution_count": 197,
   "id": "fdfadf84-6b36-4078-91b8-872f5b48eb19",
   "metadata": {
    "jupyter": {
     "source_hidden": true
    }
   },
   "outputs": [
    {
     "name": "stdout",
     "output_type": "stream",
     "text": [
      "INFO: insert(value = 15) called\n",
      "INFO: insert(value = 24) called\n",
      "INFO: insert(value = 7) called\n",
      "INFO: insert(value = 8) called\n",
      "INFO: insert(value = 9) called\n",
      "INFO: insert(value = 2) called\n",
      "INFO: insert(value = 13) called\n",
      "INFO: insert(value = 6) called\n",
      "INFO: insert(value = 12) called\n",
      "INFO: insert(value = 3) called\n",
      "INFO: insert(value = 10) called\n",
      "INFO: insert(value = 0) called\n",
      "INFO: insert(value = 14) called\n"
     ]
    },
    {
     "data": {
      "text/plain": [
       "<__main__.Node at 0x106777510>"
      ]
     },
     "execution_count": 197,
     "metadata": {},
     "output_type": "execute_result"
    }
   ],
   "source": [
    "# init new BST\n",
    "tree = BinarySearchTree()\n",
    "\n",
    "# insert some sample values\n",
    "tree.insert(15)\n",
    "tree.insert(24)\n",
    "tree.insert(7)\n",
    "tree.insert(8)\n",
    "tree.insert(9)\n",
    "tree.insert(2)\n",
    "tree.insert(13)\n",
    "tree.insert(6)\n",
    "tree.insert(12)\n",
    "tree.insert(3)\n",
    "tree.insert(10)\n",
    "tree.insert(0)\n",
    "tree.insert(14)"
   ]
  },
  {
   "cell_type": "code",
   "execution_count": 195,
   "id": "fea06e2f-c34c-4d88-a481-60df9090c2ad",
   "metadata": {
    "collapsed": true,
    "jupyter": {
     "outputs_hidden": true
    }
   },
   "outputs": [
    {
     "name": "stdout",
     "output_type": "stream",
     "text": [
      "INFO: search(value = 14) called\n",
      "DEBUG: search reached cursor root: 15\n",
      "DEBUG: search entered loop: 15\n",
      "DEBUG: current(15) > value(14)\n",
      "DEBUG: going to left child\n",
      "\n",
      "DEBUG: search entered loop: 7\n",
      "DEBUG: current(7) < value(14)\n",
      "DEBUG: going to right child\n",
      "\n",
      "DEBUG: search entered loop: 8\n",
      "DEBUG: current(8) < value(14)\n",
      "DEBUG: going to right child\n",
      "\n",
      "DEBUG: search entered loop: 9\n",
      "DEBUG: current(9) < value(14)\n",
      "DEBUG: going to right child\n",
      "\n",
      "DEBUG: search entered loop: 13\n",
      "DEBUG: current(13) < value(14)\n",
      "DEBUG: going to right child\n",
      "\n",
      "DEBUG: search entered loop: 14\n",
      "INFO: search found value: 14\n",
      "<class '__main__.Node'> value: 14\n"
     ]
    }
   ],
   "source": [
    "# search\n",
    "search_node = tree.search(14)\n",
    "\n",
    "if search_node: print(f\"{type(search_node)} value: {search_node.value}\")\n",
    "else: print(f\"{type(search_node)} : {search_node}\")"
   ]
  }
 ],
 "metadata": {
  "kernelspec": {
   "display_name": "Python 3 (ipykernel)",
   "language": "python",
   "name": "python3"
  },
  "language_info": {
   "codemirror_mode": {
    "name": "ipython",
    "version": 3
   },
   "file_extension": ".py",
   "mimetype": "text/x-python",
   "name": "python",
   "nbconvert_exporter": "python",
   "pygments_lexer": "ipython3",
   "version": "3.11.7"
  }
 },
 "nbformat": 4,
 "nbformat_minor": 5
}
