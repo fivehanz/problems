{
 "cells": [
  {
   "cell_type": "code",
   "execution_count": 1,
   "id": "b1e6a7fe-b283-485d-9ebd-5896fc8d2795",
   "metadata": {},
   "outputs": [
    {
     "name": "stdout",
     "output_type": "stream",
     "text": [
      "Python 3.11.7\n"
     ]
    }
   ],
   "source": [
    "!python --version"
   ]
  },
  {
   "cell_type": "code",
   "execution_count": 2,
   "id": "0af076d7-3ed3-4720-9246-5fffc48bb63d",
   "metadata": {},
   "outputs": [],
   "source": [
    "class Node:\n",
    "    def __init__(self, value):\n",
    "        self.value: int = value # int\n",
    "        self.left: Node | None = None\n",
    "        self.right: Node | None = None"
   ]
  },
  {
   "cell_type": "code",
   "execution_count": 8,
   "id": "8ed754dd-3169-4d3f-b153-229012b5c4bc",
   "metadata": {},
   "outputs": [
    {
     "name": "stdout",
     "output_type": "stream",
     "text": [
      "DFS iterative:  ['a', 'b', 'd', 'e', 'c', 'f']\n",
      "DFS iterative:  []\n",
      "DFS recursive:  ['a', 'b', 'd', 'e', 'c', 'f']\n",
      "DFS recursive:  []\n",
      "BFS:  ['a', 'b', 'c', 'd', 'e', 'f']\n",
      "BFS:  []\n"
     ]
    }
   ],
   "source": [
    "from typing import List\n",
    "\n",
    "# create a basic tree\n",
    "a = Node('a')\n",
    "b = Node('b')\n",
    "c = Node('c')\n",
    "d = Node('d')\n",
    "e = Node('e')\n",
    "f = Node('f')\n",
    "\n",
    "# assign the leaves\n",
    "a.left = b\n",
    "a.right = c\n",
    "\n",
    "b.left = d\n",
    "b.right = e\n",
    "\n",
    "c.right = f\n",
    "\n",
    "# dfs traverse -- iterative\n",
    "def depth_first_traversal_iterative(root: Node = None) -> List:\n",
    "    result: List = []\n",
    "    \n",
    "    # base case\n",
    "    if root.value == None: return result\n",
    "\n",
    "    # stack for LIFO\n",
    "    stack: List = [ root ]\n",
    "\n",
    "    while len(stack) > 0:\n",
    "        # curser \n",
    "        current = stack.pop()\n",
    "\n",
    "        # push to result array\n",
    "        result.append(current.value)\n",
    "\n",
    "        if current.right: stack.append(current.right)\n",
    "        if current.left: stack.append(current.left)\n",
    "\n",
    "    return result\n",
    "\n",
    "print(\"DFS iterative: \", depth_first_traversal_iterative(a))\n",
    "print(\"DFS iterative: \", depth_first_traversal_iterative(Node(None)))\n",
    "\n",
    "# dfs traverse -- recursive\n",
    "def depth_first_traversal_recursive(root: Node = None) -> List:\n",
    "    # base case; empty root / None\n",
    "    if not root: return []\n",
    "    if root.value == None: return []\n",
    "\n",
    "    # left recursive tree\n",
    "    left_values = depth_first_traversal_recursive(root.left)\n",
    "\n",
    "    # right recursive tree\n",
    "    right_values = depth_first_traversal_recursive(root.right)\n",
    "\n",
    "    # join and return\n",
    "    return [root.value] + left_values + right_values\n",
    "\n",
    "print(\"DFS recursive: \", depth_first_traversal_recursive(a))\n",
    "print(\"DFS recursive: \", depth_first_traversal_recursive(Node(None)))\n",
    "\n",
    "# bfs traverse \n",
    "def breadth_first_traversal(root: Node = None) -> List:\n",
    "    result: List = []\n",
    "\n",
    "    # base case\n",
    "    if not root: return result\n",
    "    if root.value == None: return result\n",
    "\n",
    "    # prepare queue for FIFO\n",
    "    queue: List = [ root ]\n",
    "\n",
    "    while len(queue) > 0:\n",
    "        # cursor\n",
    "        current = queue.pop(0) # pop at index 0; \n",
    "\n",
    "        # push to the result list\n",
    "        result.append(current.value)\n",
    "\n",
    "        if current.left: queue.append(current.left)\n",
    "        if current.right: queue.append(current.right)\n",
    "\n",
    "    return result\n",
    "\n",
    "print(\"BFS: \", breadth_first_traversal(a))\n",
    "print(\"BFS: \", breadth_first_traversal(Node(None)))"
   ]
  },
  {
   "cell_type": "code",
   "execution_count": 4,
   "id": "cd566a70-fa5f-4f67-9410-15ab58d24131",
   "metadata": {},
   "outputs": [],
   "source": [
    "class BinaryTree:\n",
    "    def __init__(self):\n",
    "        self.root: Node = None\n",
    "\n",
    "    def insert(self, val):\n",
    "        # base case; if empty root\n",
    "        if self.root == None:\n",
    "            self.root: Node = Node(val)\n",
    "\n",
    "        # if root is of type Node; else\n",
    "        else:\n",
    "            pass"
   ]
  }
 ],
 "metadata": {
  "kernelspec": {
   "display_name": "Python 3 (ipykernel)",
   "language": "python",
   "name": "python3"
  },
  "language_info": {
   "codemirror_mode": {
    "name": "ipython",
    "version": 3
   },
   "file_extension": ".py",
   "mimetype": "text/x-python",
   "name": "python",
   "nbconvert_exporter": "python",
   "pygments_lexer": "ipython3",
   "version": "3.11.7"
  }
 },
 "nbformat": 4,
 "nbformat_minor": 5
}
