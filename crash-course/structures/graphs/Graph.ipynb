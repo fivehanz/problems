{
 "cells": [
  {
   "cell_type": "code",
   "execution_count": 1,
   "id": "90e2dd9e-a359-4e7e-8596-cc54651dd86b",
   "metadata": {},
   "outputs": [
    {
     "name": "stdout",
     "output_type": "stream",
     "text": [
      "Python 3.11.7\n"
     ]
    }
   ],
   "source": [
    "!python --version\n",
    "\n",
    "from typing import List"
   ]
  },
  {
   "cell_type": "code",
   "execution_count": 3,
   "id": "9fa96bbb-0dc1-4033-a606-aa9d0a0d37fb",
   "metadata": {},
   "outputs": [],
   "source": [
    "class Edge:\n",
    "    def __init__(self, s, d):\n",
    "        self.src = s\n",
    "        self.dest = d\n",
    "\n",
    "class WeightedEdge(Edge):\n",
    "    def __init__(self, s, d, w):\n",
    "        super().__init__(s, d)\n",
    "        self.weight = w"
   ]
  },
  {
   "cell_type": "code",
   "execution_count": 4,
   "id": "c29bb906-dbcc-4e67-ad49-5811776bf03d",
   "metadata": {},
   "outputs": [
    {
     "name": "stdout",
     "output_type": "stream",
     "text": [
      "0 --- 2\n",
      "1 --- 2\n",
      "1 --- 3\n",
      "2 --- 0\n",
      "2 --- 1\n",
      "2 --- 3\n",
      "3 --- 1\n",
      "3 --- 2\n"
     ]
    }
   ],
   "source": [
    "# construct simple graphs using adjacency list\n",
    "vertex = 4\n",
    "graph: List[List[Edge]] = [[] for _ in range(vertex)]\n",
    "\n",
    "# create graph\n",
    "graph[0].append(Edge(0, 2))\n",
    "\n",
    "graph[1].append(Edge(1, 2))\n",
    "graph[1].append(Edge(1, 3))\n",
    "\n",
    "graph[2].append(Edge(2, 0))\n",
    "graph[2].append(Edge(2, 1))\n",
    "graph[2].append(Edge(2, 3))\n",
    "\n",
    "graph[3].append(Edge(3, 1))\n",
    "graph[3].append(Edge(3, 2))\n",
    "\n",
    "def print_neighbors(v: List[Edge]):\n",
    "    for e in v:\n",
    "        print(e.src, \"---\", e.dest)\n",
    "\n",
    "print_neighbors(graph[0])\n",
    "print_neighbors(graph[1])\n",
    "print_neighbors(graph[2])\n",
    "print_neighbors(graph[3])"
   ]
  },
  {
   "cell_type": "code",
   "execution_count": 5,
   "id": "ba88cdc0-da01-47c1-9e01-a9dec74dc29d",
   "metadata": {},
   "outputs": [
    {
     "name": "stdout",
     "output_type": "stream",
     "text": [
      "0 --- w(2) --- 2\n",
      "1 --- w(10) --- 2\n",
      "1 --- w(0) --- 3\n",
      "2 --- w(2) --- 0\n",
      "2 --- w(10) --- 1\n",
      "2 --- w(-1) --- 3\n",
      "3 --- w(0) --- 1\n",
      "3 --- w(-1) --- 2\n"
     ]
    }
   ],
   "source": [
    "# construct simple weighted graph using \"\n",
    "vertex = 4\n",
    "wgraph: List[List[WeightedEdge]] = [[] for _ in range(vertex)]\n",
    "\n",
    "# create graph\n",
    "wgraph[0].append(WeightedEdge(0, 2, 2))\n",
    "\n",
    "wgraph[1].append(WeightedEdge(1, 2, 10))\n",
    "wgraph[1].append(WeightedEdge(1, 3, 0))\n",
    "\n",
    "wgraph[2].append(WeightedEdge(2, 0, 2))\n",
    "wgraph[2].append(WeightedEdge(2, 1, 10))\n",
    "wgraph[2].append(WeightedEdge(2, 3, -1))\n",
    "\n",
    "wgraph[3].append(WeightedEdge(3, 1, 0))\n",
    "wgraph[3].append(WeightedEdge(3, 2, -1))\n",
    "\n",
    "def print_neighbors(v: List[WeightedEdge]):\n",
    "    for e in v:\n",
    "        print(e.src, f\"--- w({e.weight}) ---\", e.dest)\n",
    "\n",
    "\n",
    "print_neighbors(wgraph[0])\n",
    "print_neighbors(wgraph[1])\n",
    "print_neighbors(wgraph[2])\n",
    "print_neighbors(wgraph[3])"
   ]
  },
  {
   "cell_type": "code",
   "execution_count": 2,
   "id": "d7a48fce-74f5-48f4-b9f6-c0a71e071417",
   "metadata": {},
   "outputs": [],
   "source": [
    "# BFS\n",
    "# level order traversal\n",
    "\n",
    "def bfs():\n",
    "    pass"
   ]
  }
 ],
 "metadata": {
  "kernelspec": {
   "display_name": "Python 3 (ipykernel)",
   "language": "python",
   "name": "python3"
  },
  "language_info": {
   "codemirror_mode": {
    "name": "ipython",
    "version": 3
   },
   "file_extension": ".py",
   "mimetype": "text/x-python",
   "name": "python",
   "nbconvert_exporter": "python",
   "pygments_lexer": "ipython3",
   "version": "3.11.7"
  }
 },
 "nbformat": 4,
 "nbformat_minor": 5
}
